{
 "cells": [
  {
   "cell_type": "code",
   "execution_count": 11,
   "id": "1433fe4b-a802-4194-9342-f04fa794f94c",
   "metadata": {},
   "outputs": [],
   "source": [
    "import collections\n",
    "import json\n",
    "\n",
    "\n",
    "import numpy as np\n",
    "import tskit\n",
    "import tsinfer\n",
    "import tqdm\n",
    "import pandas as pd\n",
    "\n",
    "# For the moment, install tsutil with pip install git+https://github.com/hyanwong/tsutil\n",
    "import tsutil\n"
   ]
  },
  {
   "cell_type": "code",
   "execution_count": 2,
   "id": "6990fadd-10d6-4516-b655-b190d87f2ace",
   "metadata": {},
   "outputs": [
    {
     "name": "stderr",
     "output_type": "stream",
     "text": [
      "hgdp_tgp_sgdp_chr2_q.dated.trees.tsz?download=1: 176MB [01:02, 2.83MB/s]                              \n"
     ]
    }
   ],
   "source": [
    "# Get chr2 q arm\n",
    "\n",
    "ts = tsutil.download(\n",
    "    \"https://zenodo.org/record/5495535/files/hgdp_tgp_sgdp_chr2_q.dated.trees.tsz?download=1\")"
   ]
  },
  {
   "cell_type": "code",
   "execution_count": null,
   "id": "7fd5fc30-b439-490b-a668-5db82b94c005",
   "metadata": {},
   "outputs": [
    {
     "name": "stderr",
     "output_type": "stream",
     "text": [
      " 79%|███████▉  | 256/324 [27:18<06:54,  6.10s/it]"
     ]
    }
   ],
   "source": [
    "\n",
    "num_samples = 20  # should probably be much higher\n",
    "num_sites = 2000  # should probably be much higher\n",
    "fraction_inferred = 0.01\n",
    "rng = np.random.default_rng(seed=123)\n",
    "\n",
    "mismatch_params = np.logspace(-4, 4, num=9)\n",
    "num_replicates = 4\n",
    "\n",
    "Params = collections.namedtuple(\"Params\", \"mm_ancestors, mm_samples, replicate\")\n",
    "results = {}\n",
    "\n",
    "with tqdm.tqdm(total=len(mismatch_params)*len(mismatch_params)*num_replicates) as pbar:\n",
    "    for mismatch_ancestors in mismatch_params:\n",
    "        for mismatch_samples in mismatch_params:\n",
    "            for rep in range(num_replicates):\n",
    "                # NB - making a small_ts will be superceded by masking in the SGkit pipeline\n",
    "                # However, using .simplify() will remove non-variable sites, which is what we want\n",
    "                small_ts = ts.simplify(rng.choice(ts.samples(), size=num_samples, replace=False))\n",
    "                if num_sites >= ts.num_sites:\n",
    "                    raise ValueError(f\"Not enough polymorphic sites left for {num_samples} samples\")\n",
    "\n",
    "                start_site = small_ts.site(rng.integers(0, small_ts.num_sites-num_sites, size=1)[0])\n",
    "                stop_site = small_ts.site(start_site.id + num_sites)\n",
    "                small_ts = small_ts.keep_intervals([[start_site.position, stop_site.position]]).trim()\n",
    "                sd = tsinfer.SampleData.from_tree_sequence(small_ts, use_sites_time=False)\n",
    "                # use a temporary mask - this should be replaced by the SGkit call mask\n",
    "                total_bits = sd.num_sites * sd.num_samples\n",
    "                mask_sites = np.zeros(total_bits, dtype=bool)\n",
    "                missing = rng.choice(total_bits, size=int(fraction_inferred * total_bits), replace=False)\n",
    "                mask_sites[missing] = True\n",
    "                mask_sites = mask_sites.reshape((sd.num_sites, sd.num_samples))\n",
    "                sd_copy = sd.copy()\n",
    "                genos = sd_copy.sites_genotypes[:]\n",
    "                genos[mask_sites] = tskit.MISSING_DATA\n",
    "                sd_copy.sites_genotypes[:] = genos\n",
    "                sd_copy.finalise()\n",
    "                \n",
    "                # Do the inference. We should probably use a recombination map here rather than a fixed rate of 1e-8\n",
    "                # However, the huge range of mismatch ratios, from e.g. 1e-4 to 1e+4, means this shouldn't have a huge effect\n",
    "                anc = tsinfer.generate_ancestors(sd_copy)\n",
    "                anc_ts = tsinfer.match_ancestors(sd_copy, anc, recombination_rate=1e-8, mismatch_ratio=mismatch_ancestors)\n",
    "                inferred_ts = tsinfer.match_samples(sd_copy, anc_ts, recombination_rate=1e-8, mismatch_ratio=mismatch_samples)\n",
    "                num_correct = 0\n",
    "                num_masked = 0\n",
    "                for v_orig, v_imputed, mask in zip(sd.variants(), inferred_ts.variants(), mask_sites):\n",
    "                    if np.any(mask):\n",
    "                        num_masked += sum(mask)\n",
    "                        num_correct += np.sum(\n",
    "                            np.array(v_orig.alleles)[v_orig.genotypes[mask]] ==\n",
    "                            np.array(v_imputed.alleles)[v_imputed.genotypes[mask]]\n",
    "                        )\n",
    "                results[Params(mismatch_ancestors, mismatch_samples, rep)] = (num_correct, num_masked)\n",
    "                pbar.update()\n"
   ]
  },
  {
   "cell_type": "code",
   "execution_count": null,
   "id": "0c6dff14-f859-496e-a536-7d5337336a0c",
   "metadata": {},
   "outputs": [],
   "source": [
    "from matplotlib import pyplot as plt\n",
    "\n",
    "z = np.zeros((len(mismatch_params), len(mismatch_params)))\n",
    "mm2index = {v: i for i, v in enumerate(mismatch_params)}\n",
    "\n",
    "for param, res in results.items():\n",
    "    z[mm2index[param.mm_ancestors], mm2index[param.mm_samples]] += res[0]/res[1]\n",
    "\n",
    "z = z / num_replicates\n",
    "\n",
    "CS = plt.contourf(mismatch_params, mismatch_params, z)\n",
    "plt.xscale('log')\n",
    "plt.set_xlabel('mismatch ratio in ancestor matching')\n",
    "plt.yscale('log')\n",
    "plt.set_xlabel('mismatch ratio in sample matching')\n",
    "cbar = plt.colorbar(CS)\n",
    "cbar.ax.set_ylabel('fraction of correctly imputed sites')"
   ]
  },
  {
   "cell_type": "code",
   "execution_count": null,
   "id": "c3d06382-c9ea-4a4f-9396-11c129c3fe2b",
   "metadata": {},
   "outputs": [],
   "source": []
  }
 ],
 "metadata": {
  "kernelspec": {
   "display_name": "Python 3 (ipykernel)",
   "language": "python",
   "name": "python3"
  },
  "language_info": {
   "codemirror_mode": {
    "name": "ipython",
    "version": 3
   },
   "file_extension": ".py",
   "mimetype": "text/x-python",
   "name": "python",
   "nbconvert_exporter": "python",
   "pygments_lexer": "ipython3",
   "version": "3.10.8"
  }
 },
 "nbformat": 4,
 "nbformat_minor": 5
}
